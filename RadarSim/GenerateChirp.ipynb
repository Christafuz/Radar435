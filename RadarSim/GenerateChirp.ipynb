{
 "cells": [
  {
   "cell_type": "code",
   "execution_count": 1,
   "metadata": {},
   "outputs": [],
   "source": [
    "## Name: George P. Burdell\n",
    "## Date: Jan 18, 2020\n",
    "## Assignment: Create Wave File of Pulse Trains\n",
    "## Assignment #4\n",
    "\n",
    "## Class: ECE 435/535 Winter 2020\n",
    "## Instructor: Mr. McGarvey\n",
    "\n",
    "## Estimated Time to complete\n"
   ]
  },
  {
   "cell_type": "code",
   "execution_count": 2,
   "metadata": {},
   "outputs": [],
   "source": [
    "# Setup Notebook\n",
    "%matplotlib inline\n",
    "from matplotlib import pyplot as plt\n",
    "import numpy as np\n",
    "from scipy import signal\n"
   ]
  },
  {
   "cell_type": "code",
   "execution_count": 3,
   "metadata": {},
   "outputs": [
    {
     "name": "stdout",
     "output_type": "stream",
     "text": [
      "====================\n",
      "Time and Frequency\n",
      "PRI:0.5 s, PW 0.02s, Fc 1000 Hz, Tc 0.001 s\n",
      "\n",
      "\n",
      "====================\n",
      "Space and Time\n",
      "PRI:171.50 m, PW 6.86 m, kc 2.92 cycles/meter, lambda 0.34 m\n"
     ]
    }
   ],
   "source": [
    "# Setup Parameters\n",
    "DEBUG = False\n",
    "#___|Center Freq = fc |______________________________|Center Freq = fc |_________________\n",
    "#   [<------- Pulse Repetition Interval = PRI   ---->]\n",
    "#   [<--Pulse Width-->]\n",
    "amplitude = np.iinfo(np.int16).max\n",
    "A = amplitude\n",
    "fc = 1000 # kHz kilohertz\n",
    "PRI = 0.50 # seconds\n",
    "\n",
    "# Class decided on number of Periods or wavelengths in a pulse\n",
    "num_periods = 20\n",
    "Tc = 1/fc\n",
    "PW = Tc*num_periods\n",
    "\n",
    "print('='*20)\n",
    "print(\"Time and Frequency\")\n",
    "print('PRI:{} s, PW {}s, Fc {} Hz, Tc {} s'.format(PRI, PW, fc, Tc))\n",
    "print('\\n')\n",
    "\n",
    "# Spatial information \n",
    "vp = 343 # m/s speed of sound \n",
    "PRI_x = PRI * vp\n",
    "PW_x = PW * vp\n",
    "kc = fc/vp\n",
    "Lc = vp/fc\n",
    "\n",
    "print('='*20)\n",
    "print(\"Space and Time\")\n",
    "print('PRI:{:.02f} m, PW {:.02f} m, kc {:.02f} cycles/meter, lambda {:.02f} m'\n",
    "      .format(PRI_x, PW_x, kc, Lc))\n"
   ]
  },
  {
   "cell_type": "code",
   "execution_count": 4,
   "metadata": {},
   "outputs": [
    {
     "data": {
      "text/html": [
       "<div>\n",
       "<style scoped>\n",
       "    .dataframe tbody tr th:only-of-type {\n",
       "        vertical-align: middle;\n",
       "    }\n",
       "\n",
       "    .dataframe tbody tr th {\n",
       "        vertical-align: top;\n",
       "    }\n",
       "\n",
       "    .dataframe thead th {\n",
       "        text-align: right;\n",
       "    }\n",
       "</style>\n",
       "<table border=\"1\" class=\"dataframe\">\n",
       "  <thead>\n",
       "    <tr style=\"text-align: right;\">\n",
       "      <th></th>\n",
       "      <th>PRI (s)</th>\n",
       "      <th>PW(ms)</th>\n",
       "      <th>fc (kHz)</th>\n",
       "      <th>Tc ($\\mu$s)</th>\n",
       "    </tr>\n",
       "  </thead>\n",
       "  <tbody>\n",
       "    <tr>\n",
       "      <td>0</td>\n",
       "      <td>0.5</td>\n",
       "      <td>20.0</td>\n",
       "      <td>1.0</td>\n",
       "      <td>1000.0</td>\n",
       "    </tr>\n",
       "  </tbody>\n",
       "</table>\n",
       "</div>"
      ],
      "text/plain": [
       "   PRI (s)  PW(ms)  fc (kHz)  Tc ($\\mu$s)\n",
       "0      0.5    20.0       1.0       1000.0"
      ]
     },
     "execution_count": 4,
     "metadata": {},
     "output_type": "execute_result"
    }
   ],
   "source": [
    "# Making the data pretty\n",
    "import pandas as pd\n",
    "data1 = [[PRI, PW, fc, Tc],[PRI, PW*1e3, fc/1e3, Tc*1e6]]\n",
    "pd.DataFrame(data1[1:], columns=[\"PRI (s)\", \"PW(ms)\", \"fc (kHz)\", \"Tc ($\\mu$s)\"])\n",
    "\n",
    "\n",
    "\n"
   ]
  },
  {
   "cell_type": "code",
   "execution_count": 5,
   "metadata": {},
   "outputs": [
    {
     "data": {
      "text/html": [
       "<div>\n",
       "<style scoped>\n",
       "    .dataframe tbody tr th:only-of-type {\n",
       "        vertical-align: middle;\n",
       "    }\n",
       "\n",
       "    .dataframe tbody tr th {\n",
       "        vertical-align: top;\n",
       "    }\n",
       "\n",
       "    .dataframe thead th {\n",
       "        text-align: right;\n",
       "    }\n",
       "</style>\n",
       "<table border=\"1\" class=\"dataframe\">\n",
       "  <thead>\n",
       "    <tr style=\"text-align: right;\">\n",
       "      <th></th>\n",
       "      <th>PRI (m)</th>\n",
       "      <th>PW(m)</th>\n",
       "      <th>kc (cycles/meter)</th>\n",
       "      <th>$\\lambda$ (m)</th>\n",
       "    </tr>\n",
       "  </thead>\n",
       "  <tbody>\n",
       "    <tr>\n",
       "      <td>0</td>\n",
       "      <td>171.5</td>\n",
       "      <td>6.86</td>\n",
       "      <td>2.915452</td>\n",
       "      <td>0.343</td>\n",
       "    </tr>\n",
       "  </tbody>\n",
       "</table>\n",
       "</div>"
      ],
      "text/plain": [
       "   PRI (m)  PW(m)  kc (cycles/meter)  $\\lambda$ (m)\n",
       "0    171.5   6.86           2.915452          0.343"
      ]
     },
     "execution_count": 5,
     "metadata": {},
     "output_type": "execute_result"
    }
   ],
   "source": [
    "data2 = [[PRI_x, PW_x, kc, Lc],[PRI_x, PW_x, kc, Lc]]\n",
    "pd.DataFrame(data2[1:], columns=[\"PRI (m)\", \"PW(m)\", \"kc (cycles/meter)\", \"$\\lambda$ (m)\"])\n"
   ]
  },
  {
   "cell_type": "markdown",
   "metadata": {},
   "source": [
    "## Making the unit waveform"
   ]
  },
  {
   "cell_type": "code",
   "execution_count": 6,
   "metadata": {},
   "outputs": [
    {
     "name": "stdout",
     "output_type": "stream",
     "text": [
      "Desired Sample Rate : 20000.0 samples/sec\n",
      "Sample Rate Check: is 20000.0 less than 100000 == True\n",
      " Desired Sample Rate usable\n"
     ]
    }
   ],
   "source": [
    "# samples per period \n",
    "#samps_per_period = 10\n",
    "FS_MAX = 100000 # maximum sample rate for audio transmitter\n",
    "\n",
    "# create the time step for sampling \n",
    "fmax = fc \n",
    "Tmax = 1/fmax\n",
    "dt = Tmax/20\n",
    "\n",
    "# Optional: create a waveform with dt/[2,3,4,5,6,7,8,9,10,15,20] and plot the FFTs of each \n",
    "# You should see what happens to the energy when the signals are reproduced cleanly. \n",
    "\n",
    "# calculate required sample rate\n",
    "fs = 1/dt\n",
    "derp = fs < FS_MAX\n",
    "print('Desired Sample Rate : {} samples/sec'.format(fs))\n",
    "print('Sample Rate Check: is {} less than {} == {}'.format(fs, FS_MAX, derp))\n",
    "\n",
    "if derp == False:\n",
    "    print('\\n ***** Desired Sample Rate too high! ***** ')\n",
    "else:\n",
    "    print(' Desired Sample Rate usable')\n",
    "    "
   ]
  },
  {
   "cell_type": "code",
   "execution_count": 7,
   "metadata": {},
   "outputs": [
    {
     "name": "stdout",
     "output_type": "stream",
     "text": [
      "Samples in unit vector 10000\n"
     ]
    },
    {
     "data": {
      "text/plain": [
       "Text(0.5, 1.0, 'Time Series Vector')"
      ]
     },
     "execution_count": 7,
     "metadata": {},
     "output_type": "execute_result"
    },
    {
     "data": {
      "image/png": "[encoded data removed]",
      "text/plain": [
       "<Figure size 432x288 with 1 Axes>"
      ]
     },
     "metadata": {
      "needs_background": "light"
     },
     "output_type": "display_data"
    }
   ],
   "source": [
    "# create the time series array\n",
    "t_unit = PRI\n",
    "t_vector = np.arange(0,t_unit,dt)\n",
    "print('Samples in unit vector {}'.format(len(t_vector)))\n",
    "plt.plot(t_vector)\n",
    "plt.xlabel('index')\n",
    "plt.ylabel('seconds')\n",
    "plt.title('Time Series Vector')\n",
    "\n",
    "# checking to see if we are creating it correctly"
   ]
  },
  {
   "cell_type": "code",
   "execution_count": 8,
   "metadata": {},
   "outputs": [
    {
     "name": "stdout",
     "output_type": "stream",
     "text": [
      "0.02\n"
     ]
    }
   ],
   "source": [
    "print(PW)"
   ]
  },
  {
   "cell_type": "code",
   "execution_count": 9,
   "metadata": {},
   "outputs": [
    {
     "data": {
      "text/plain": [
       "Text(0.5, 1.0, 'Mask for Pulse Train PW = 0.02s')"
      ]
     },
     "execution_count": 9,
     "metadata": {},
     "output_type": "execute_result"
    },
    {
     "data": {
      "image/png": "[encoded data removed]",
      "text/plain": [
       "<Figure size 432x288 with 1 Axes>"
      ]
     },
     "metadata": {
      "needs_background": "light"
     },
     "output_type": "display_data"
    }
   ],
   "source": [
    "## Making PW the iteration way\n",
    "# now we are going to create a mask for bits that will be on or off\n",
    "# create a single pulse train\n",
    "# 111111000000000\n",
    "\n",
    "\n",
    "mask = np.zeros_like(t_vector)\n",
    "sample = t_vector[0]\n",
    "idx = 1 \n",
    "while sample < PW:\n",
    "    mask[idx] = 1\n",
    "    idx = idx+1\n",
    "    sample = t_vector[idx]\n",
    "\n",
    "plt.plot(t_vector[:len(mask)],mask)\n",
    "plt.xlabel('seconds')\n",
    "plt.ylabel('True/False')\n",
    "plt.title('Mask for Pulse Train PW = {}s'.format(PW))"
   ]
  },
  {
   "cell_type": "code",
   "execution_count": 10,
   "metadata": {},
   "outputs": [
    {
     "data": {
      "text/plain": [
       "Text(0.5, 1.0, 'Mask for Pulse Train PW = 0.02s')"
      ]
     },
     "execution_count": 10,
     "metadata": {},
     "output_type": "execute_result"
    },
    {
     "data": {
      "image/png": "[encoded data removed]",
      "text/plain": [
       "<Figure size 432x288 with 1 Axes>"
      ]
     },
     "metadata": {
      "needs_background": "light"
     },
     "output_type": "display_data"
    }
   ],
   "source": [
    "## Create mask vector method\n",
    "# figure out how many samples are in the pulse\n",
    "PWidx = np.int(PW/dt)\n",
    "\n",
    "mask_vector = np.zeros_like(t_vector)\n",
    "mask_vector[:PWidx] = 1 \n",
    "\n",
    "mask_vector[0]=0 # makes the pulse nice. \n",
    "\n",
    "plt.plot(t_vector,mask_vector)\n",
    "plt.xlabel('seconds')\n",
    "plt.ylabel('True/False')\n",
    "plt.title('Mask for Pulse Train PW = {}s'.format(PW))"
   ]
  },
  {
   "cell_type": "code",
   "execution_count": 11,
   "metadata": {},
   "outputs": [
    {
     "name": "stdout",
     "output_type": "stream",
     "text": [
      "1000\n"
     ]
    },
    {
     "data": {
      "text/plain": [
       "array([32767.        , 32766.9918231 , 32766.92088084, 32766.67216944,\n",
       "       32766.07017176, 32764.87886329, 32762.80172611, 32759.48177566,\n",
       "       32754.50160694, 32747.38346763, 32737.5893673 , 32724.52123278,\n",
       "       32707.52112146, 32685.87150526, 32658.79563933, 32625.45803099,\n",
       "       32584.96502527, 32536.36552507, 32478.65186461, 32410.76085647])"
      ]
     },
     "execution_count": 11,
     "metadata": {},
     "output_type": "execute_result"
    },
    {
     "data": {
      "image/png": "[encoded data removed]",
      "text/plain": [
       "<Figure size 432x288 with 1 Axes>"
      ]
     },
     "metadata": {
      "needs_background": "light"
     },
     "output_type": "display_data"
    }
   ],
   "source": [
    "# Create the sine wave\n",
    "from scipy.signal import chirp\n",
    "amplitude = np.iinfo(np.int16).max\n",
    "A =amplitude\n",
    "print(fc)\n",
    "#data = amplitude * np.sin(2. * np.pi * freq * t)\n",
    "#signal = A*np.sin(2. * np.pi*np.int(fc)*t_vector)\n",
    "\n",
    "\n",
    "signal = A * chirp(t_vector, f0=1, f1=fc, t1=PW, method='linear' )\n",
    "\n",
    "plt.plot(t_vector[0:PWidx//200], signal[0:PWidx//200],'o-')\n",
    "plt.plot(t_vector[:PWidx], signal[:PWidx]) # zeros are optional \n",
    "plt.title('Fc {} kHz    For the duration of the pulse'.format(fc/1e3))\n",
    "plt.xlabel('time (s)')\n",
    "plt.ylabel('Amplitude')\n",
    "signal[:20]"
   ]
  },
  {
   "cell_type": "code",
   "execution_count": 12,
   "metadata": {},
   "outputs": [
    {
     "data": {
      "text/plain": [
       "Text(0, 0.5, 'Amplitude')"
      ]
     },
     "execution_count": 12,
     "metadata": {},
     "output_type": "execute_result"
    },
    {
     "data": {
      "image/png": "[encoded data removed]",
      "text/plain": [
       "<Figure size 432x288 with 1 Axes>"
      ]
     },
     "metadata": {
      "needs_background": "light"
     },
     "output_type": "display_data"
    }
   ],
   "source": [
    "# now combine everything\n",
    "signal = signal * mask\n",
    "plt.plot(t_vector,signal)\n",
    "plt.title('Pulse Train Unit')\n",
    "plt.xlabel('time (s)')\n",
    "plt.ylabel('Amplitude')"
   ]
  },
  {
   "cell_type": "code",
   "execution_count": 13,
   "metadata": {},
   "outputs": [
    {
     "name": "stdout",
     "output_type": "stream",
     "text": [
      "Periods to copy 120.02\n",
      "Periods to copy 121\n",
      "61.0\n"
     ]
    }
   ],
   "source": [
    "# Now we make a long time series of these\n",
    "t_max = 60+.01 # 5 min the +3 is to show rounding\n",
    "\n",
    "periods_to_copy = t_max / PRI\n",
    "print('Periods to copy {}'.format(periods_to_copy))\n",
    "periods_to_copy = np.int(np.ceil(periods_to_copy))\n",
    "print('Periods to copy {}'.format(periods_to_copy))\n",
    "\n",
    "unit_signal = signal\n",
    "signal = None\n",
    "signal = unit_signal\n",
    "for idx in range(0,periods_to_copy):\n",
    "    signal=np.concatenate((signal, unit_signal), axis=None)\n",
    "\n",
    "t_max_idx = len(signal)\n",
    "t_vector = np.arange(0,len(signal)*dt,dt)    \n",
    "if DEBUG == True:\n",
    "    plt.plot(t_vector, signal, 'xkcd:mango')\n",
    "    plt.title('Pulse Train')\n",
    "    plt.xlabel('Seconds')\n",
    "    plt.ylabel('Amplitude')\n",
    "    \n",
    "print(len(signal)*dt)"
   ]
  },
  {
   "cell_type": "code",
   "execution_count": 14,
   "metadata": {},
   "outputs": [
    {
     "data": {
      "text/plain": [
       "[<matplotlib.lines.Line2D at 0x1cf91183a48>]"
      ]
     },
     "execution_count": 14,
     "metadata": {},
     "output_type": "execute_result"
    },
    {
     "data": {
      "image/png": "[encoded data removed]",
      "text/plain": [
       "<Figure size 432x288 with 1 Axes>"
      ]
     },
     "metadata": {
      "needs_background": "light"
     },
     "output_type": "display_data"
    }
   ],
   "source": [
    "plt.plot(signal[:72000])"
   ]
  },
  {
   "cell_type": "code",
   "execution_count": 15,
   "metadata": {},
   "outputs": [
    {
     "data": {
      "text/plain": [
       "'\\n#freq = 100\\n#t = np.linspace(0., 1., samplerate)\\namplitude = np.iinfo(np.int16).max\\nprint(amplitude)\\ndata = amplitude * np.sin(2. * np.pi * freq * t)\\nwrite(\"example.wav\", samplerate, data)\\nprint(data[:20])\\n'"
      ]
     },
     "execution_count": 15,
     "metadata": {},
     "output_type": "execute_result"
    }
   ],
   "source": [
    "\n",
    "from scipy.io.wavfile import write\n",
    "samplerate = 96000; \n",
    "'''\n",
    "#freq = 100\n",
    "#t = np.linspace(0., 1., samplerate)\n",
    "amplitude = np.iinfo(np.int16).max\n",
    "print(amplitude)\n",
    "data = amplitude * np.sin(2. * np.pi * freq * t)\n",
    "write(\"example.wav\", samplerate, data)\n",
    "print(data[:20])\n",
    "'''"
   ]
  },
  {
   "cell_type": "code",
   "execution_count": 17,
   "metadata": {},
   "outputs": [
    {
     "name": "stdout",
     "output_type": "stream",
     "text": [
      "[    0.         32766.9918231  32766.92088084 32766.67216944\n",
      " 32766.07017176 32764.87886329 32762.80172611 32759.48177566\n",
      " 32754.50160694 32747.38346763 32737.5893673  32724.52123278\n",
      " 32707.52112146 32685.87150526 32658.79563933 32625.45803099\n",
      " 32584.96502527 32536.36552507 32478.65186461 32410.76085647]\n",
      "20000.0\n",
      "[    0.         32766.9918231  32766.92088084 32766.67216944\n",
      " 32766.07017176 32764.87886329 32762.80172611 32759.48177566\n",
      " 32754.50160694 32747.38346763 32737.5893673  32724.52123278\n",
      " 32707.52112146 32685.87150526 32658.79563933 32625.45803099\n",
      " 32584.96502527 32536.36552507 32478.65186461 32410.76085647]\n"
     ]
    }
   ],
   "source": [
    "\n",
    "# Write out the waveform\n",
    "print(signal[0:20])\n",
    "samplerate = np.int(fs)\n",
    "print(fs)\n",
    "write(\"PulseTrain_chirp_1000_050_020.wav\", samplerate, signal)\n",
    "write(\"Kernel_PulseTrain_chirp_1000_050_020.wav\", samplerate, unit_signal)\n",
    "print(signal[0:20])"
   ]
  },
  {
   "cell_type": "code",
   "execution_count": null,
   "metadata": {},
   "outputs": [],
   "source": []
  },
  {
   "cell_type": "code",
   "execution_count": null,
   "metadata": {},
   "outputs": [],
   "source": []
  },
  {
   "cell_type": "code",
   "execution_count": null,
   "metadata": {},
   "outputs": [],
   "source": []
  }
 ],
 "metadata": {
  "kernelspec": {
   "display_name": "Python 3",
   "language": "python",
   "name": "python3"
  },
  "language_info": {
   "codemirror_mode": {
    "name": "ipython",
    "version": 3
   },
   "file_extension": ".py",
   "mimetype": "text/x-python",
   "name": "python",
   "nbconvert_exporter": "python",
   "pygments_lexer": "ipython3",
   "version": "3.7.4"
  }
 },
 "nbformat": 4,
 "nbformat_minor": 4
}
