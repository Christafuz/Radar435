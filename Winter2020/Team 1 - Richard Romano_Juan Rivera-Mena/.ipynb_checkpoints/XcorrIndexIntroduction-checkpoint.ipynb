{
 "cells": [
  {
   "cell_type": "markdown",
   "metadata": {},
   "source": [
    "## Intro to Cross Correlation"
   ]
  },
  {
   "cell_type": "code",
   "execution_count": 1,
   "metadata": {},
   "outputs": [],
   "source": [
    "import numpy as np\n",
    "import scipy.signal as sig\n",
    "from matplotlib import pyplot as plt"
   ]
  },
  {
   "cell_type": "code",
   "execution_count": 2,
   "metadata": {},
   "outputs": [],
   "source": [
    "kernel  = np.ones(10)\n",
    "signalarray = np.ones(20)\n"
   ]
  },
  {
   "cell_type": "markdown",
   "metadata": {},
   "source": [
    "# The default Cross Correlate"
   ]
  },
  {
   "cell_type": "code",
   "execution_count": 3,
   "metadata": {
    "scrolled": true
   },
   "outputs": [
    {
     "name": "stdout",
     "output_type": "stream",
     "text": [
      "Original array length 20\n",
      "29\n"
     ]
    },
    {
     "data": {
      "text/plain": [
       "<StemContainer object of 3 artists>"
      ]
     },
     "execution_count": 3,
     "metadata": {},
     "output_type": "execute_result"
    },
    {
     "data": {
      "image/png": "[encoded data removed]",
      "text/plain": [
       "<Figure size 432x288 with 1 Axes>"
      ]
     },
     "metadata": {
      "needs_background": "light"
     },
     "output_type": "display_data"
    }
   ],
   "source": [
    "xcorr_array = sig.correlate(kernel, signalarray,'full')\n",
    "print('Original array length {}'.format(len(signalarray)))\n",
    "print(len(xcorr_array))\n",
    "plt.stem(xcorr_array,use_line_collection=True)\n",
    "plt.stem(signalarray,use_line_collection=True)\n",
    "plt.stem(-1*kernel,use_line_collection=True)"
   ]
  },
  {
   "cell_type": "markdown",
   "metadata": {},
   "source": [
    "## Notice when you use default (same as full)\n",
    "\n",
    "the length of the new array is len(signalarray)+ len(kernel) -1\n",
    "\n",
    "The arrays are calculated starting with one sample overlapping.\n",
    "so the output that you want to look at is \n",
    "\n"
   ]
  },
  {
   "cell_type": "markdown",
   "metadata": {},
   "source": [
    "# Now if we look at:\n",
    "```xcorr_array[len(kernel)-1:]```\n",
    "We see that at the new zero point we get a maximum xcorr\n"
   ]
  },
  {
   "cell_type": "code",
   "execution_count": 4,
   "metadata": {},
   "outputs": [
    {
     "data": {
      "text/plain": [
       "<StemContainer object of 3 artists>"
      ]
     },
     "execution_count": 4,
     "metadata": {},
     "output_type": "execute_result"
    },
    {
     "data": {
      "image/png": "[encoded data removed]",
      "text/plain": [
       "<Figure size 432x288 with 1 Axes>"
      ]
     },
     "metadata": {
      "needs_background": "light"
     },
     "output_type": "display_data"
    }
   ],
   "source": [
    "plt.stem(xcorr_array[len(kernel)-1:],use_line_collection=True)"
   ]
  },
  {
   "cell_type": "code",
   "execution_count": 5,
   "metadata": {},
   "outputs": [],
   "source": [
    "## Now we are going to make a signal that we know should xcorr at some known offset"
   ]
  },
  {
   "cell_type": "code",
   "execution_count": 6,
   "metadata": {},
   "outputs": [
    {
     "data": {
      "text/plain": [
       "<StemContainer object of 3 artists>"
      ]
     },
     "execution_count": 6,
     "metadata": {},
     "output_type": "execute_result"
    },
    {
     "data": {
      "image/png": "[encoded data removed]",
      "text/plain": [
       "<Figure size 432x288 with 1 Axes>"
      ]
     },
     "metadata": {
      "needs_background": "light"
     },
     "output_type": "display_data"
    }
   ],
   "source": [
    "left_pad = 10\n",
    "right_pad = left_pad\n",
    "special_answer = np.pad(kernel,(left_pad,right_pad),'constant')\n",
    "plt.stem(special_answer, use_line_collection=True)"
   ]
  },
  {
   "cell_type": "code",
   "execution_count": 7,
   "metadata": {},
   "outputs": [],
   "source": [
    "# now we cross correlate it with our kernel. We are looking for left_pad"
   ]
  },
  {
   "cell_type": "code",
   "execution_count": 8,
   "metadata": {},
   "outputs": [
    {
     "name": "stdout",
     "output_type": "stream",
     "text": [
      "Max value 10.0 occurs at derp[19]\n",
      "derp[19] != 10\n"
     ]
    },
    {
     "data": {
      "image/png": "[encoded data removed]",
      "text/plain": [
       "<Figure size 432x288 with 1 Axes>"
      ]
     },
     "metadata": {
      "needs_background": "light"
     },
     "output_type": "display_data"
    }
   ],
   "source": [
    "answer = left_pad\n",
    "derp = sig.correlate(kernel,special_answer)\n",
    "plt.stem(derp,use_line_collection=True)\n",
    "print('Max value {} occurs at derp[{}]'.format(np.max(derp),np.argmax(derp)))\n",
    "print('derp[{}] != {}'.format(np.argmax(derp),answer))\n"
   ]
  },
  {
   "cell_type": "code",
   "execution_count": 9,
   "metadata": {},
   "outputs": [
    {
     "name": "stdout",
     "output_type": "stream",
     "text": [
      "But if we remove the first len(kernel)-1 : 9 elements what happens\n",
      "Max value 10.0 occurs at derp[10]\n",
      "derp[10] != 10\n",
      "we get the right answer\n",
      "========================================\n",
      "Is the xcorr vector the correct length?\n",
      "len(special_answer)=30, len(derp_adjusted)=30\n",
      "Yep!\n"
     ]
    },
    {
     "data": {
      "image/png": "[encoded data removed]",
      "text/plain": [
       "<Figure size 432x288 with 1 Axes>"
      ]
     },
     "metadata": {
      "needs_background": "light"
     },
     "output_type": "display_data"
    }
   ],
   "source": [
    "print('But if we remove the first len(kernel)-1 : {} elements what happens'.format(len(kernel)-1))\n",
    "derp_adjusted = derp[len(kernel)-1:]\n",
    "plt.stem(derp_adjusted,use_line_collection=True)\n",
    "print('Max value {} occurs at derp[{}]'.format(np.max(derp_adjusted),np.argmax(derp_adjusted)))\n",
    "print('derp[{}] != {}'.format(np.argmax(derp_adjusted),answer))\n",
    "print('we get the right answer')\n",
    "print('='*40)\n",
    "print('Is the xcorr vector the correct length?')\n",
    "print('len(special_answer)={}, len(derp_adjusted)={}'.format(len(special_answer),len(derp_adjusted)))\n",
    "print('Yep!')"
   ]
  },
  {
   "cell_type": "code",
   "execution_count": null,
   "metadata": {},
   "outputs": [],
   "source": []
  },
  {
   "cell_type": "code",
   "execution_count": null,
   "metadata": {},
   "outputs": [],
   "source": []
  }
 ],
 "metadata": {
  "kernelspec": {
   "display_name": "Python 3",
   "language": "python",
   "name": "python3"
  },
  "language_info": {
   "codemirror_mode": {
    "name": "ipython",
    "version": 3
   },
   "file_extension": ".py",
   "mimetype": "text/x-python",
   "name": "python",
   "nbconvert_exporter": "python",
   "pygments_lexer": "ipython3",
   "version": "3.7.4"
  }
 },
 "nbformat": 4,
 "nbformat_minor": 2
}
