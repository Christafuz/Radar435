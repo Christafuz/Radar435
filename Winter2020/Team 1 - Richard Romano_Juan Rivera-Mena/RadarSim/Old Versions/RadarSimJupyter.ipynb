{
 "cells": [
  {
   "cell_type": "code",
   "execution_count": 1,
   "metadata": {},
   "outputs": [
    {
     "ename": "ModuleNotFoundError",
     "evalue": "No module named 'pulsetrain'",
     "output_type": "error",
     "traceback": [
      "\u001b[1;31m---------------------------------------------------------------------------\u001b[0m",
      "\u001b[1;31mModuleNotFoundError\u001b[0m                       Traceback (most recent call last)",
      "\u001b[1;32m<ipython-input-1-526f62c8dc51>\u001b[0m in \u001b[0;36m<module>\u001b[1;34m\u001b[0m\n\u001b[0;32m     24\u001b[0m \u001b[1;33m\u001b[0m\u001b[0m\n\u001b[0;32m     25\u001b[0m \u001b[1;31m# Custom libraries\u001b[0m\u001b[1;33m\u001b[0m\u001b[1;33m\u001b[0m\u001b[1;33m\u001b[0m\u001b[0m\n\u001b[1;32m---> 26\u001b[1;33m \u001b[1;32mimport\u001b[0m \u001b[0mpulsetrain\u001b[0m \u001b[1;32mas\u001b[0m \u001b[0mpt\u001b[0m\u001b[1;33m\u001b[0m\u001b[1;33m\u001b[0m\u001b[0m\n\u001b[0m\u001b[0;32m     27\u001b[0m \u001b[1;32mimport\u001b[0m \u001b[0mpulsenoise\u001b[0m \u001b[1;32mas\u001b[0m \u001b[0mpn\u001b[0m\u001b[1;33m\u001b[0m\u001b[1;33m\u001b[0m\u001b[0m\n\u001b[0;32m     28\u001b[0m \u001b[1;32mimport\u001b[0m \u001b[0mdetection\u001b[0m \u001b[1;32mas\u001b[0m \u001b[0mdet\u001b[0m\u001b[1;33m\u001b[0m\u001b[1;33m\u001b[0m\u001b[0m\n",
      "\u001b[1;31mModuleNotFoundError\u001b[0m: No module named 'pulsetrain'"
     ]
    }
   ],
   "source": [
    "# Radar signal simulator\n",
    "# ECE 435/535 Winter 2020\n",
    "# -------------------\n",
    "# George P. Burdell\n",
    "# Bell Georgina  \n",
    "# Date: \n",
    "# -------------------\n",
    "# Description of add ons \n",
    "\n",
    "'''\n",
    "Method: -- this is a script..\n",
    "1 - Create a pulse train from Transmitter\n",
    "2 - Generate a list of targets, (Range, RCS)\n",
    "3 - Generate return pulses for each of the targets into a single train\n",
    "4 - Attenuate 1 to reasonable power level\n",
    "5 - Add 3+4\n",
    "6 - Add AGWN to 5\n",
    "7 - Apply detection method\n",
    "'''\n",
    "\n",
    "from matplotlib import pyplot as plt\n",
    "import numpy as np\n",
    "import scipy.signal as sig\n",
    "\n",
    "# Custom libraries\n",
    "import pulsetrain as pt\n",
    "import pulsenoise as pn\n",
    "import detection as det\n",
    "\n",
    "# Student Libary\n",
    "import lastname as GPD # Intials (George P. Burdell)\n"
   ]
  },
  {
   "cell_type": "markdown",
   "metadata": {},
   "source": [
    "## Student Custom Library "
   ]
  },
  {
   "cell_type": "code",
   "execution_count": null,
   "metadata": {},
   "outputs": [],
   "source": [
    "def myfuction(var1, var2='1942', var3='Chain Home'):\n",
    "    print(var1, var2, var3)\n",
    "    x = 42\n",
    "    return x, var1\n",
    "\n",
    "# usage\n",
    "derp0, derp1 = myfuction(23,'1939')\n",
    "print('\\n================')\n",
    "print(derp0, derp1)\n",
    "\n",
    "def prob_detection(var1, var2)\n",
    "    \n",
    "    SNR = var1 #SNR obtained from the difference between noise floor power and peak power\n",
    "    num_observations = var2\n",
    "    \n",
    "    false_detection = exp(-(SNR)*sqrt(num_observations))\n",
    "    \n",
    "    p = 1 - false_detection\n",
    "    return p\n",
    "\n",
    "def new_noise_floor(var1)\n",
    "    \n",
    "    sum_and_gated = var1\n",
    "    \n",
    "    noise floor = sum_and_gated; #find the average noise floor of the gated and summed signal\n",
    "    \n",
    "    return noise_floor\n",
    "\n"
   ]
  },
  {
   "cell_type": "markdown",
   "metadata": {},
   "source": [
    "### Setup the RADAR parameters"
   ]
  },
  {
   "cell_type": "code",
   "execution_count": null,
   "metadata": {},
   "outputs": [],
   "source": [
    "Pavg = 100e3        # Basic Power level output of the radar\n",
    "Gt = 15             # Scalar Gain of TX antenna\n",
    "Gr = Gt             # Scalar Gain of RX antenna  if Gr == Gt same antenna\n",
    "fc = 40e6           # Carrier Frequency, Center Frequency\n",
    "vp = 3e8            # Phase Velocity of the EM wave\n",
    "NF = 1              # Receiver Noise Figure\n",
    "T  = 1/fc           # period of one Carrier Frequency\n",
    "#derived values\n",
    "Lambda = vp/fc\n",
    "\n",
    "# Setup Time portion\n",
    "PRF = 500           # Pulses per second (hertz)\n",
    "PRI = 1/PRF         # Pulse Repetition Interval (seconds)\n",
    "R_unamb = PRI *vp/2 # Unambiguous Range\n",
    "\n",
    "#Num cycles per pulse packet\n",
    "k = 100             # k cycles of fc in the pulse packet\n",
    "PW = k*T            # k cycles * Period of fc\n",
    "BW = 1/PW           # Bandwidth of the RADAR Pulse\n",
    "# error check\n",
    "if PW >= PRI:\n",
    "    print('Error: Pulse width much too long -- PRI: {}, PW = {}'.format(PRI, PW))\n"
   ]
  },
  {
   "cell_type": "markdown",
   "metadata": {},
   "source": [
    "### Find R-max, R-umabigous"
   ]
  },
  {
   "cell_type": "code",
   "execution_count": null,
   "metadata": {},
   "outputs": [],
   "source": [
    "# calculate maximum range with SNR = 1, n Observations = 1\n",
    "SNRmin = 1\n",
    "RCS = 1\n",
    "Rmax = pt.calcRmax(Pavg,Gt,Gr,Lambda, BW, SNRmin = SNRmin, RCS = RCS) #, RCS, T, NF = 1,L=1, SNRmin=1)\n",
    "print('Rmax(SNR:{}, RCS:{}) \\t= {:.02f} km'.format(SNRmin, RCS, Rmax/1e3))\n",
    "print('R unambigouse \\t\\t= {:.02f}km'.format(R_unamb/1e3))\n"
   ]
  },
  {
   "cell_type": "markdown",
   "metadata": {},
   "source": [
    "# Setup the testing enviroment"
   ]
  },
  {
   "cell_type": "code",
   "execution_count": null,
   "metadata": {},
   "outputs": [],
   "source": [
    "num_targets = 10\n",
    "\n",
    "target_ranges = np.random.randint(Rmax//4,Rmax,num_targets)\n",
    "target_rcs = np.random.randint(1,1000,num_targets)\n"
   ]
  },
  {
   "cell_type": "markdown",
   "metadata": {},
   "source": [
    "#### Time series Constraints"
   ]
  },
  {
   "cell_type": "code",
   "execution_count": null,
   "metadata": {},
   "outputs": [],
   "source": [
    "K_pulses = 20 # how many PRI's get simulated\n",
    "dt_k = 20 # how many samples per fc period (Tc)"
   ]
  },
  {
   "cell_type": "markdown",
   "metadata": {},
   "source": [
    "#### Build the sample Pulse Train and examine"
   ]
  },
  {
   "cell_type": "code",
   "execution_count": null,
   "metadata": {},
   "outputs": [],
   "source": [
    "# Make a signal smaller in amplitude to simulate the \n",
    "# blanking / attenuation in normal RADAR systems\n",
    "\n",
    "\n",
    "attenuate = True\n",
    "if attenuate == True:\n",
    "    dBm = -100 #dBm\n",
    "    scalar = 1e-3 * np.power(10,(dBm/10))\n",
    "else:\n",
    "    scalar = Pavg\n",
    "    \n",
    "main_train, PW, dt, len_PRI = pt.createPulseTrain(A=scalar,fc = fc, k=k, PRI=PRI, dt_k=dt_k, K_pulses = K_pulses)\n",
    "\n"
   ]
  },
  {
   "cell_type": "markdown",
   "metadata": {},
   "source": [
    "### Create the target reflections"
   ]
  },
  {
   "cell_type": "code",
   "execution_count": null,
   "metadata": {},
   "outputs": [],
   "source": [
    "# Now we create the returns...\n",
    "main_trace = np.zeros_like(main_train) # return without TX\n",
    "\n",
    "for idx, target_range in enumerate(target_ranges):\n",
    "\n",
    "    pwr, dbm = pt.RadarEquationAdv(Pavg, Gt, target_range, RCS, Gr, Lambda, dB=False)\n",
    "    print(':: idx: {} Power at RX {} dBm @ range: {} rmax {}'.format(idx,(10*np.log10(Pavg/1e-3)),\n",
    "                                                                     target_range, R_unamb ))\n",
    "    p_train, PW, dt, len_PRI = pt.createPulseTrain(A=pwr,fc = fc, k=k, PRI=PRI,\n",
    "                                                   dt_k=dt_k, K_pulses = np.int(K_pulses))\n",
    "    # time shift to correct spot\n",
    "    p_train = pt.timeShift(p_train, target_range,vp, dt, len_PRI)\n",
    "    main_trace = main_trace + p_train"
   ]
  },
  {
   "cell_type": "markdown",
   "metadata": {},
   "source": [
    "#### Merge the Transmitter Pulse train (main_train) with the reflected signals (main_trace)\n",
    "\n",
    "#### add AWGN to the total Pulse train with returns"
   ]
  },
  {
   "cell_type": "code",
   "execution_count": null,
   "metadata": {},
   "outputs": [],
   "source": [
    "# -------------------------------\n",
    "# now we add the two systems together.\n",
    "# Add noise to the pulse traing\n",
    "main_trace = main_trace + main_train\n",
    "\n",
    "main_trace = pn.addNoiseToPulseTrain(main_trace,1/PW)\n"
   ]
  },
  {
   "cell_type": "markdown",
   "metadata": {},
   "source": [
    "## DETECTION method"
   ]
  },
  {
   "cell_type": "code",
   "execution_count": null,
   "metadata": {},
   "outputs": [],
   "source": [
    "# -------------------------------\n",
    "# Detection Section\n",
    "# Envelope detect the signals\n",
    "main_trace_env = det.envelope(main_trace)\n",
    "\n",
    "# -------------------------------\n",
    "# Gate the signal & sum them up for \n",
    "# provide n observation effects\n",
    "n_obs_main_trace_env = main_trace_env.reshape(K_pulses+1, len_PRI)\n",
    "# add them all together\n",
    "n_obs_main_trace_env = n_obs_main_trace_env.sum(axis=0)\n"
   ]
  },
  {
   "cell_type": "markdown",
   "metadata": {},
   "source": [
    "#### Threshold the data"
   ]
  },
  {
   "cell_type": "code",
   "execution_count": null,
   "metadata": {},
   "outputs": [],
   "source": [
    "from scipy.signal import find_peaks\n",
    "\n",
    "dBm = -80 #dBm\n",
    "scalar = 1e-3 * np.power(10,(dBm/10))\n",
    "#height = scalar\n",
    "\n",
    "peaks, _ = find_peaks(n_obs_main_trace_env, height=scalar)\n"
   ]
  },
  {
   "cell_type": "code",
   "execution_count": null,
   "metadata": {},
   "outputs": [],
   "source": [
    "# make the distance vector\n",
    "nsamps = len(n_obs_main_trace_env)\n",
    "x = np.linspace(0,R_unamb, nsamps)\n",
    "dx = R_unamb/(len(n_obs_main_trace_env))\n",
    "\n",
    "\n",
    "plt.semilogy(x/1e3,n_obs_main_trace_env)\n",
    "plt.semilogy(peaks*dx/1e3,n_obs_main_trace_env[peaks], 'x')\n",
    "plt.title('This is my title')\n",
    "plt.xlabel('Distance in km')\n",
    "plt.ylabel('Power in Watts')"
   ]
  },
  {
   "cell_type": "markdown",
   "metadata": {},
   "source": [
    "# HW:\n",
    "This homework is for getting familiar with interacting with data. You are going to write a few functions. The functions that you are writing are relively simple. The basic simulator is supplied. I suggest you exercise it change a few functions. You have two method of adding funtions. You can either add them near the top in the #Custom Fuction# block or in the <i><b>LastName.py</b></i> file \n",
    "\n",
    "\n",
    "## Jupyter Modifications \n",
    "1. Add probablity of detection function\n",
    "1. Add fuction to detect/generate new noise floor after gating and summing\n",
    "1. Use probability of detection function to determine threshold\n",
    "1. What is last peak? \n",
    "1. Convert plot to dBm\n",
    "1. Replace find_peaks with a thresholding function\n",
    "\n",
    "## Functions to add\n",
    "1. Probablity of False Positive \n",
    "1. Find noise floor from data\n",
    "1. SNR Threshold function\n",
    "1. Report number of targets and distance"
   ]
  },
  {
   "cell_type": "code",
   "execution_count": null,
   "metadata": {},
   "outputs": [],
   "source": []
  }
 ],
 "metadata": {
  "kernelspec": {
   "display_name": "Python 3",
   "language": "python",
   "name": "python3"
  },
  "language_info": {
   "codemirror_mode": {
    "name": "ipython",
    "version": 3
   },
   "file_extension": ".py",
   "mimetype": "text/x-python",
   "name": "python",
   "nbconvert_exporter": "python",
   "pygments_lexer": "ipython3",
   "version": "3.7.4"
  }
 },
 "nbformat": 4,
 "nbformat_minor": 2
}
