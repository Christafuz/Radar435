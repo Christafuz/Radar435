{
 "cells": [
  {
   "cell_type": "code",
   "execution_count": 1,
   "metadata": {},
   "outputs": [],
   "source": [
    "## Name: George P. Burdell\n",
    "## Date: Jan 18, 2020\n",
    "## Assignment: Create Wave File of Pulse Trains\n",
    "## Assignment #4\n",
    "\n",
    "## Class: ECE 435/535 Winter 2020\n",
    "## Instructor: Mr. McGarvey\n",
    "\n",
    "## Estimated Time to complete\n"
   ]
  },
  {
   "cell_type": "code",
   "execution_count": 2,
   "metadata": {},
   "outputs": [],
   "source": [
    "# Setup Notebook\n",
    "%matplotlib inline\n",
    "from matplotlib import pyplot as plt\n",
    "import numpy as np\n",
    "from scipy import signal\n"
   ]
  },
  {
   "cell_type": "code",
   "execution_count": 3,
   "metadata": {},
   "outputs": [
    {
     "name": "stdout",
     "output_type": "stream",
     "text": [
      "====================\n",
      "Time and Frequency\n",
      "PRI:0.15 s, PW 0.002s, Fc 5000 Hz, Tc 0.0002 s\n",
      "\n",
      "\n",
      "====================\n",
      "Space and Time\n",
      "PRI:51.45 m, PW 0.69 m, kc 14.58 cycles/meter, lambda 0.07 m\n"
     ]
    }
   ],
   "source": [
    "# Setup Parameters\n",
    "DEBUG = False\n",
    "#___|Center Freq = fc |______________________________|Center Freq = fc |_________________\n",
    "#   [<------- Pulse Repetition Interval = PRI   ---->]\n",
    "#   [<--Pulse Width-->]\n",
    "amplitude = np.iinfo(np.int16).max\n",
    "A = amplitude\n",
    "fc = 5000 # 4kHz kilohertz\n",
    "PRI = 0.15 # seconds\n",
    "\n",
    "# Class decided on number of Periods or wavelengths in a pulse\n",
    "num_periods = 10\n",
    "Tc = 1/fc\n",
    "PW = Tc*num_periods\n",
    "\n",
    "\n",
    "print('='*20)\n",
    "print(\"Time and Frequency\")\n",
    "print('PRI:{} s, PW {}s, Fc {} Hz, Tc {} s'.format(PRI, PW, fc, Tc))\n",
    "print('\\n')\n",
    "\n",
    "# Spatial information \n",
    "vp = 343 # m/s speed of sound \n",
    "PRI_x = PRI * vp\n",
    "PW_x = PW * vp\n",
    "kc = fc/vp\n",
    "Lc = vp/fc\n",
    "\n",
    "print('='*20)\n",
    "print(\"Space and Time\")\n",
    "print('PRI:{:.02f} m, PW {:.02f} m, kc {:.02f} cycles/meter, lambda {:.02f} m'\n",
    "      .format(PRI_x, PW_x, kc, Lc))\n"
   ]
  },
  {
   "cell_type": "code",
   "execution_count": 4,
   "metadata": {},
   "outputs": [
    {
     "data": {
      "text/html": [
       "<div>\n",
       "<style scoped>\n",
       "    .dataframe tbody tr th:only-of-type {\n",
       "        vertical-align: middle;\n",
       "    }\n",
       "\n",
       "    .dataframe tbody tr th {\n",
       "        vertical-align: top;\n",
       "    }\n",
       "\n",
       "    .dataframe thead th {\n",
       "        text-align: right;\n",
       "    }\n",
       "</style>\n",
       "<table border=\"1\" class=\"dataframe\">\n",
       "  <thead>\n",
       "    <tr style=\"text-align: right;\">\n",
       "      <th></th>\n",
       "      <th>PRI (s)</th>\n",
       "      <th>PW(ms)</th>\n",
       "      <th>fc (kHz)</th>\n",
       "      <th>Tc ($\\mu$s)</th>\n",
       "    </tr>\n",
       "  </thead>\n",
       "  <tbody>\n",
       "    <tr>\n",
       "      <th>0</th>\n",
       "      <td>0.15</td>\n",
       "      <td>2.0</td>\n",
       "      <td>5.0</td>\n",
       "      <td>200.0</td>\n",
       "    </tr>\n",
       "  </tbody>\n",
       "</table>\n",
       "</div>"
      ],
      "text/plain": [
       "   PRI (s)  PW(ms)  fc (kHz)  Tc ($\\mu$s)\n",
       "0     0.15     2.0       5.0        200.0"
      ]
     },
     "execution_count": 4,
     "metadata": {},
     "output_type": "execute_result"
    }
   ],
   "source": [
    "# Making the data pretty\n",
    "import pandas as pd\n",
    "data1 = [[PRI, PW, fc, Tc],[PRI, PW*1e3, fc/1e3, Tc*1e6]]\n",
    "pd.DataFrame(data1[1:], columns=[\"PRI (s)\", \"PW(ms)\", \"fc (kHz)\", \"Tc ($\\mu$s)\"])\n",
    "\n",
    "\n",
    "\n"
   ]
  },
  {
   "cell_type": "code",
   "execution_count": 5,
   "metadata": {},
   "outputs": [
    {
     "data": {
      "text/html": [
       "<div>\n",
       "<style scoped>\n",
       "    .dataframe tbody tr th:only-of-type {\n",
       "        vertical-align: middle;\n",
       "    }\n",
       "\n",
       "    .dataframe tbody tr th {\n",
       "        vertical-align: top;\n",
       "    }\n",
       "\n",
       "    .dataframe thead th {\n",
       "        text-align: right;\n",
       "    }\n",
       "</style>\n",
       "<table border=\"1\" class=\"dataframe\">\n",
       "  <thead>\n",
       "    <tr style=\"text-align: right;\">\n",
       "      <th></th>\n",
       "      <th>PRI (m)</th>\n",
       "      <th>PW(m)</th>\n",
       "      <th>kc (cycles/meter)</th>\n",
       "      <th>$\\lambda$ (m)</th>\n",
       "    </tr>\n",
       "  </thead>\n",
       "  <tbody>\n",
       "    <tr>\n",
       "      <th>0</th>\n",
       "      <td>51.45</td>\n",
       "      <td>0.686</td>\n",
       "      <td>14.577259</td>\n",
       "      <td>0.0686</td>\n",
       "    </tr>\n",
       "  </tbody>\n",
       "</table>\n",
       "</div>"
      ],
      "text/plain": [
       "   PRI (m)  PW(m)  kc (cycles/meter)  $\\lambda$ (m)\n",
       "0    51.45  0.686          14.577259         0.0686"
      ]
     },
     "execution_count": 5,
     "metadata": {},
     "output_type": "execute_result"
    }
   ],
   "source": [
    "data2 = [[PRI_x, PW_x, kc, Lc],[PRI_x, PW_x, kc, Lc]]\n",
    "pd.DataFrame(data2[1:], columns=[\"PRI (m)\", \"PW(m)\", \"kc (cycles/meter)\", \"$\\lambda$ (m)\"])\n"
   ]
  },
  {
   "cell_type": "markdown",
   "metadata": {},
   "source": [
    "## Making the unit waveform"
   ]
  },
  {
   "cell_type": "code",
   "execution_count": 6,
   "metadata": {},
   "outputs": [
    {
     "name": "stdout",
     "output_type": "stream",
     "text": [
      "Desired Sample Rate : 99999.99999999999 samples/sec\n",
      "Sample Rate Check: is 99999.99999999999 less than 100000 == True\n",
      " Desired Sample Rate usable\n"
     ]
    }
   ],
   "source": [
    "# samples per period \n",
    "#samps_per_period = 10\n",
    "FS_MAX = 100000 # maximum sample rate for audio transmitter\n",
    "\n",
    "# create the time step for sampling \n",
    "fmax = fc \n",
    "Tmax = 1/fmax\n",
    "dt = Tmax/20\n",
    "\n",
    "# Optional: create a waveform with dt/[2,3,4,5,6,7,8,9,10,15,20] and plot the FFTs of each \n",
    "# You should see what happens to the energy when the signals are reproduced cleanly. \n",
    "\n",
    "# calculate required sample rate\n",
    "fs = 1/dt\n",
    "derp = fs < FS_MAX\n",
    "print('Desired Sample Rate : {} samples/sec'.format(fs))\n",
    "print('Sample Rate Check: is {} less than {} == {}'.format(fs, FS_MAX, derp))\n",
    "\n",
    "if derp == False:\n",
    "    print('\\n ***** Desired Sample Rate too high! ***** ')\n",
    "else:\n",
    "    print(' Desired Sample Rate usable')\n",
    "    "
   ]
  },
  {
   "cell_type": "code",
   "execution_count": 7,
   "metadata": {},
   "outputs": [
    {
     "name": "stdout",
     "output_type": "stream",
     "text": [
      "Samples in unit vector 15000\n"
     ]
    },
    {
     "data": {
      "text/plain": [
       "Text(0.5, 1.0, 'Time Series Vector')"
      ]
     },
     "execution_count": 7,
     "metadata": {},
     "output_type": "execute_result"
    },
    {
     "data": {
      "image/png": "[encoded data removed]",
      "text/plain": [
       "<Figure size 432x288 with 1 Axes>"
      ]
     },
     "metadata": {
      "needs_background": "light"
     },
     "output_type": "display_data"
    }
   ],
   "source": [
    "# create the time series array\n",
    "t_unit = PRI\n",
    "t_vector = np.arange(0,t_unit,dt)\n",
    "print('Samples in unit vector {}'.format(len(t_vector)))\n",
    "plt.plot(t_vector)\n",
    "plt.xlabel('index')\n",
    "plt.ylabel('seconds')\n",
    "plt.title('Time Series Vector')\n",
    "\n",
    "# checking to see if we are creating it correctly"
   ]
  },
  {
   "cell_type": "code",
   "execution_count": 8,
   "metadata": {},
   "outputs": [
    {
     "name": "stdout",
     "output_type": "stream",
     "text": [
      "0.002\n"
     ]
    }
   ],
   "source": [
    "print(PW)"
   ]
  },
  {
   "cell_type": "code",
   "execution_count": 9,
   "metadata": {
    "scrolled": false
   },
   "outputs": [
    {
     "data": {
      "text/plain": [
       "Text(0.5, 1.0, 'Mask for Pulse Train PW = 0.002s')"
      ]
     },
     "execution_count": 9,
     "metadata": {},
     "output_type": "execute_result"
    },
    {
     "data": {
      "image/png": "[encoded data removed]",
      "text/plain": [
       "<Figure size 432x288 with 1 Axes>"
      ]
     },
     "metadata": {
      "needs_background": "light"
     },
     "output_type": "display_data"
    }
   ],
   "source": [
    "## Making PW the iteration way\n",
    "# now we are going to create a mask for bits that will be on or off\n",
    "# create a single pulse train\n",
    "# 111111000000000\n",
    "\n",
    "\n",
    "mask = np.zeros_like(t_vector)\n",
    "sample = t_vector[0]\n",
    "idx = 1\n",
    "while sample < PW:\n",
    "    mask[idx] = 1\n",
    "    idx = idx+1\n",
    "    sample = t_vector[idx]\n",
    "\n",
    "plt.plot(t_vector[:len(mask)],mask)\n",
    "plt.xlabel('seconds')\n",
    "plt.ylabel('True/False')\n",
    "plt.title('Mask for Pulse Train PW = {}s'.format(PW))"
   ]
  },
  {
   "cell_type": "code",
   "execution_count": 10,
   "metadata": {},
   "outputs": [
    {
     "data": {
      "text/plain": [
       "Text(0.5, 1.0, 'Mask for Pulse Train PW = 0.002s')"
      ]
     },
     "execution_count": 10,
     "metadata": {},
     "output_type": "execute_result"
    },
    {
     "data": {
      "image/png": "[encoded data removed]",
      "text/plain": [
       "<Figure size 432x288 with 1 Axes>"
      ]
     },
     "metadata": {
      "needs_background": "light"
     },
     "output_type": "display_data"
    }
   ],
   "source": [
    "## Create mask vector method\n",
    "# figure out how many samples are in the pulse\n",
    "PWidx = np.int(PW/dt)\n",
    "\n",
    "mask_vector = np.zeros_like(t_vector)\n",
    "mask_vector[:PWidx] = 1 \n",
    "\n",
    "mask_vector[0]=0 # makes the pulse nice. \n",
    "\n",
    "plt.plot(t_vector,mask_vector)\n",
    "plt.xlabel('seconds')\n",
    "plt.ylabel('True/False')\n",
    "plt.title('Mask for Pulse Train PW = {}s'.format(PW))"
   ]
  },
  {
   "cell_type": "code",
   "execution_count": 11,
   "metadata": {},
   "outputs": [
    {
     "name": "stdout",
     "output_type": "stream",
     "text": [
      "5000\n"
     ]
    },
    {
     "data": {
      "text/plain": [
       "array([ 0.00000000e+00,  1.01255599e+04,  1.92599594e+04,  2.65090599e+04,\n",
       "        3.11632689e+04,  3.27670000e+04,  3.11632689e+04,  2.65090599e+04,\n",
       "        1.92599594e+04,  1.01255599e+04, -1.05386710e-11, -1.01255599e+04,\n",
       "       -1.92599594e+04, -2.65090599e+04, -3.11632689e+04, -3.27670000e+04,\n",
       "       -3.11632689e+04, -2.65090599e+04, -1.92599594e+04, -1.01255599e+04])"
      ]
     },
     "execution_count": 11,
     "metadata": {},
     "output_type": "execute_result"
    },
    {
     "data": {
      "image/png": "[encoded data removed]",
      "text/plain": [
       "<Figure size 432x288 with 1 Axes>"
      ]
     },
     "metadata": {
      "needs_background": "light"
     },
     "output_type": "display_data"
    }
   ],
   "source": [
    "# Create the sine wave\n",
    "amplitude = np.iinfo(np.int16).max\n",
    "A =amplitude\n",
    "print(fc)\n",
    "#data = amplitude * np.sin(2. * np.pi * freq * t)\n",
    "signal = A*np.sin(2. * np.pi*np.int(fc)*t_vector)\n",
    "plt.plot(t_vector[0:PWidx//200], signal[0:PWidx//200],'o-')\n",
    "#plt.plot(t_vector[:PWidx], signal[:PWidx]) # zeros are optional \n",
    "plt.title('Fc {} kHz    For the duration of the pulse'.format(fc/1e3))\n",
    "plt.xlabel('time (s)')\n",
    "plt.ylabel('Amplitude')\n",
    "signal[:20]"
   ]
  },
  {
   "cell_type": "code",
   "execution_count": 12,
   "metadata": {},
   "outputs": [
    {
     "data": {
      "text/plain": [
       "Text(0, 0.5, 'Amplitude')"
      ]
     },
     "execution_count": 12,
     "metadata": {},
     "output_type": "execute_result"
    },
    {
     "data": {
      "image/png": "[encoded data removed]",
      "text/plain": [
       "<Figure size 432x288 with 1 Axes>"
      ]
     },
     "metadata": {
      "needs_background": "light"
     },
     "output_type": "display_data"
    }
   ],
   "source": [
    "# now combine everything\n",
    "signal = signal * mask\n",
    "plt.plot(t_vector,signal)\n",
    "plt.title('Pulse Train Unit')\n",
    "plt.xlabel('time (s)')\n",
    "plt.ylabel('Amplitude')"
   ]
  },
  {
   "cell_type": "code",
   "execution_count": 13,
   "metadata": {},
   "outputs": [
    {
     "name": "stdout",
     "output_type": "stream",
     "text": [
      "Periods to copy 400.06666666666666\n",
      "Periods to copy 401\n",
      "60.300000000000004\n"
     ]
    }
   ],
   "source": [
    "# Now we make a long time series of these\n",
    "t_max = 60+.01 # 5 min the +3 is to show rounding\n",
    "\n",
    "periods_to_copy = t_max / PRI\n",
    "print('Periods to copy {}'.format(periods_to_copy))\n",
    "periods_to_copy = np.int(np.ceil(periods_to_copy))\n",
    "print('Periods to copy {}'.format(periods_to_copy))\n",
    "\n",
    "unit_signal = signal\n",
    "signal = None\n",
    "signal = unit_signal\n",
    "for idx in range(0,periods_to_copy):\n",
    "    signal=np.concatenate((signal, unit_signal), axis=None)\n",
    "\n",
    "t_max_idx = len(signal)\n",
    "t_vector = np.arange(0,len(signal)*dt,dt)    \n",
    "if DEBUG == True:\n",
    "    plt.plot(t_vector, signal, 'xkcd:mango')\n",
    "    plt.title('Pulse Train')\n",
    "    plt.xlabel('Seconds')\n",
    "    plt.ylabel('Amplitude')\n",
    "    \n",
    "print(len(signal)*dt)"
   ]
  },
  {
   "cell_type": "code",
   "execution_count": 14,
   "metadata": {},
   "outputs": [
    {
     "data": {
      "text/plain": [
       "[<matplotlib.lines.Line2D at 0x24331a1e688>]"
      ]
     },
     "execution_count": 14,
     "metadata": {},
     "output_type": "execute_result"
    },
    {
     "data": {
      "image/png": "[encoded data removed]",
      "text/plain": [
       "<Figure size 432x288 with 1 Axes>"
      ]
     },
     "metadata": {
      "needs_background": "light"
     },
     "output_type": "display_data"
    }
   ],
   "source": [
    "\n",
    "\n",
    "\n",
    "plt.plot(signal[:72000])"
   ]
  },
  {
   "cell_type": "code",
   "execution_count": null,
   "metadata": {},
   "outputs": [],
   "source": []
  },
  {
   "cell_type": "code",
   "execution_count": 15,
   "metadata": {},
   "outputs": [
    {
     "data": {
      "text/plain": [
       "'\\n#freq = 100\\nt = np.linspace(0., 1., samplerate)\\namplitude = np.iinfo(np.int16).max\\nprint(amplitude)\\ndata = amplitude * np.sin(2. * np.pi * freq * t)\\nwrite(\"example.wav\", samplerate, data)\\nprint(data[:20])\\n'"
      ]
     },
     "execution_count": 15,
     "metadata": {},
     "output_type": "execute_result"
    }
   ],
   "source": [
    "\n",
    "from scipy.io.wavfile import write\n",
    "samplerate = 44100; \n",
    "'''\n",
    "#freq = 100\n",
    "t = np.linspace(0., 1., samplerate)\n",
    "amplitude = np.iinfo(np.int16).max\n",
    "print(amplitude)\n",
    "data = amplitude * np.sin(2. * np.pi * freq * t)\n",
    "write(\"example.wav\", samplerate, data)\n",
    "print(data[:20])\n",
    "'''"
   ]
  },
  {
   "cell_type": "code",
   "execution_count": 16,
   "metadata": {},
   "outputs": [
    {
     "name": "stdout",
     "output_type": "stream",
     "text": [
      "[ 0.00000000e+00  1.01255599e+04  1.92599594e+04  2.65090599e+04\n",
      "  3.11632689e+04  3.27670000e+04  3.11632689e+04  2.65090599e+04\n",
      "  1.92599594e+04  1.01255599e+04 -1.05386710e-11 -1.01255599e+04\n",
      " -1.92599594e+04 -2.65090599e+04 -3.11632689e+04 -3.27670000e+04\n",
      " -3.11632689e+04 -2.65090599e+04 -1.92599594e+04 -1.01255599e+04]\n",
      "99999.99999999999\n",
      "[ 0.00000000e+00  1.01255599e+04  1.92599594e+04  2.65090599e+04\n",
      "  3.11632689e+04  3.27670000e+04  3.11632689e+04  2.65090599e+04\n",
      "  1.92599594e+04  1.01255599e+04 -1.05386710e-11 -1.01255599e+04\n",
      " -1.92599594e+04 -2.65090599e+04 -3.11632689e+04 -3.27670000e+04\n",
      " -3.11632689e+04 -2.65090599e+04 -1.92599594e+04 -1.01255599e+04]\n"
     ]
    }
   ],
   "source": [
    "\n",
    "# Write out the waveform\n",
    "print(signal[0:20])\n",
    "samplerate = np.int(fs)\n",
    "print(fs)\n",
    "write(\"PulseTrain1000_10_05.wav\", samplerate, signal)\n",
    "print(signal[0:20])"
   ]
  },
  {
   "cell_type": "code",
   "execution_count": null,
   "metadata": {},
   "outputs": [],
   "source": []
  },
  {
   "cell_type": "code",
   "execution_count": null,
   "metadata": {},
   "outputs": [],
   "source": []
  },
  {
   "cell_type": "code",
   "execution_count": null,
   "metadata": {},
   "outputs": [],
   "source": []
  }
 ],
 "metadata": {
  "kernelspec": {
   "display_name": "Python 3",
   "language": "python",
   "name": "python3"
  },
  "language_info": {
   "codemirror_mode": {
    "name": "ipython",
    "version": 3
   },
   "file_extension": ".py",
   "mimetype": "text/x-python",
   "name": "python",
   "nbconvert_exporter": "python",
   "pygments_lexer": "ipython3",
   "version": "3.7.4"
  }
 },
 "nbformat": 4,
 "nbformat_minor": 2
}
